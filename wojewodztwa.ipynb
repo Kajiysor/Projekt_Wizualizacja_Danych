{
 "cells": [
  {
   "cell_type": "code",
   "execution_count": 2,
   "metadata": {},
   "outputs": [],
   "source": [
    "from bs4 import BeautifulSoup\n",
    "import pandas as pd"
   ]
  },
  {
   "cell_type": "code",
   "execution_count": 3,
   "metadata": {},
   "outputs": [],
   "source": [
    "with open(\"miasta.html\") as miasta:\n",
    "    soup = BeautifulSoup(miasta, \"html.parser\")"
   ]
  },
  {
   "cell_type": "code",
   "execution_count": 4,
   "metadata": {},
   "outputs": [],
   "source": [
    "role = soup.find_all(\"tr\", {\"role\":\"row\"})"
   ]
  },
  {
   "cell_type": "code",
   "execution_count": 5,
   "metadata": {},
   "outputs": [
    {
     "data": {
      "text/plain": [
       "965"
      ]
     },
     "execution_count": 5,
     "metadata": {},
     "output_type": "execute_result"
    }
   ],
   "source": [
    "len(role)"
   ]
  },
  {
   "cell_type": "code",
   "execution_count": 6,
   "metadata": {},
   "outputs": [],
   "source": [
    "miasta = soup.select(\"tr\", {\"role\":\"row\"})"
   ]
  },
  {
   "cell_type": "code",
   "execution_count": 7,
   "metadata": {},
   "outputs": [
    {
     "data": {
      "text/plain": [
       "964"
      ]
     },
     "execution_count": 7,
     "metadata": {},
     "output_type": "execute_result"
    }
   ],
   "source": [
    "lista_miast = []\n",
    "for i in range(1, len(role)):\n",
    "    dict = {\"miasto\" : role[i].find_all(\"a\")[0].text.strip().upper(), \"wojewodztwo\" : role[i].find_all(\"a\")[2].text.strip().upper()}\n",
    "    lista_miast.append(dict)\n",
    "\n",
    "len(lista_miast)"
   ]
  },
  {
   "cell_type": "code",
   "execution_count": 8,
   "metadata": {},
   "outputs": [],
   "source": [
    "for i in lista_miast:\n",
    "    if(i.get(\"WARSZAWA\")):\n",
    "        print(\"DUPA\")"
   ]
  },
  {
   "cell_type": "code",
   "execution_count": 9,
   "metadata": {},
   "outputs": [
    {
     "name": "stdout",
     "output_type": "stream",
     "text": [
      "{'miasto': 'WARSZAWA', 'wojewodztwo': 'MAZOWIECKIE'}\n"
     ]
    }
   ],
   "source": [
    "print(next(x for x in lista_miast if x[\"miasto\"] == \"WARSZAWA\"))"
   ]
  },
  {
   "cell_type": "code",
   "execution_count": 10,
   "metadata": {},
   "outputs": [
    {
     "data": {
      "text/html": [
       "<div>\n",
       "<style scoped>\n",
       "    .dataframe tbody tr th:only-of-type {\n",
       "        vertical-align: middle;\n",
       "    }\n",
       "\n",
       "    .dataframe tbody tr th {\n",
       "        vertical-align: top;\n",
       "    }\n",
       "\n",
       "    .dataframe thead th {\n",
       "        text-align: right;\n",
       "    }\n",
       "</style>\n",
       "<table border=\"1\" class=\"dataframe\">\n",
       "  <thead>\n",
       "    <tr style=\"text-align: right;\">\n",
       "      <th></th>\n",
       "      <th>miasto</th>\n",
       "      <th>wojewodztwo</th>\n",
       "    </tr>\n",
       "  </thead>\n",
       "  <tbody>\n",
       "    <tr>\n",
       "      <th>0</th>\n",
       "      <td>KAMIENIEC ZĄBKOWICKI</td>\n",
       "      <td>DOLNOŚLĄSKIE</td>\n",
       "    </tr>\n",
       "    <tr>\n",
       "      <th>1</th>\n",
       "      <td>WLEŃ</td>\n",
       "      <td>DOLNOŚLĄSKIE</td>\n",
       "    </tr>\n",
       "    <tr>\n",
       "      <th>2</th>\n",
       "      <td>LUBOMIERZ</td>\n",
       "      <td>DOLNOŚLĄSKIE</td>\n",
       "    </tr>\n",
       "    <tr>\n",
       "      <th>3</th>\n",
       "      <td>PRUSICE</td>\n",
       "      <td>DOLNOŚLĄSKIE</td>\n",
       "    </tr>\n",
       "    <tr>\n",
       "      <th>4</th>\n",
       "      <td>WIĄZÓW</td>\n",
       "      <td>DOLNOŚLĄSKIE</td>\n",
       "    </tr>\n",
       "    <tr>\n",
       "      <th>...</th>\n",
       "      <td>...</td>\n",
       "      <td>...</td>\n",
       "    </tr>\n",
       "    <tr>\n",
       "      <th>959</th>\n",
       "      <td>ŚWINOUJŚCIE</td>\n",
       "      <td>ZACHODNIOPOMORSKIE</td>\n",
       "    </tr>\n",
       "    <tr>\n",
       "      <th>960</th>\n",
       "      <td>KOŁOBRZEG</td>\n",
       "      <td>ZACHODNIOPOMORSKIE</td>\n",
       "    </tr>\n",
       "    <tr>\n",
       "      <th>961</th>\n",
       "      <td>STARGARD</td>\n",
       "      <td>ZACHODNIOPOMORSKIE</td>\n",
       "    </tr>\n",
       "    <tr>\n",
       "      <th>962</th>\n",
       "      <td>KOSZALIN</td>\n",
       "      <td>ZACHODNIOPOMORSKIE</td>\n",
       "    </tr>\n",
       "    <tr>\n",
       "      <th>963</th>\n",
       "      <td>SZCZECIN</td>\n",
       "      <td>ZACHODNIOPOMORSKIE</td>\n",
       "    </tr>\n",
       "  </tbody>\n",
       "</table>\n",
       "<p>964 rows × 2 columns</p>\n",
       "</div>"
      ],
      "text/plain": [
       "                   miasto         wojewodztwo\n",
       "0    KAMIENIEC ZĄBKOWICKI        DOLNOŚLĄSKIE\n",
       "1                    WLEŃ        DOLNOŚLĄSKIE\n",
       "2               LUBOMIERZ        DOLNOŚLĄSKIE\n",
       "3                 PRUSICE        DOLNOŚLĄSKIE\n",
       "4                  WIĄZÓW        DOLNOŚLĄSKIE\n",
       "..                    ...                 ...\n",
       "959           ŚWINOUJŚCIE  ZACHODNIOPOMORSKIE\n",
       "960             KOŁOBRZEG  ZACHODNIOPOMORSKIE\n",
       "961              STARGARD  ZACHODNIOPOMORSKIE\n",
       "962              KOSZALIN  ZACHODNIOPOMORSKIE\n",
       "963              SZCZECIN  ZACHODNIOPOMORSKIE\n",
       "\n",
       "[964 rows x 2 columns]"
      ]
     },
     "execution_count": 10,
     "metadata": {},
     "output_type": "execute_result"
    }
   ],
   "source": [
    "df = pd.DataFrame(lista_miast)\n",
    "df"
   ]
  },
  {
   "cell_type": "code",
   "execution_count": 13,
   "metadata": {},
   "outputs": [
    {
     "data": {
      "text/html": [
       "<div>\n",
       "<style scoped>\n",
       "    .dataframe tbody tr th:only-of-type {\n",
       "        vertical-align: middle;\n",
       "    }\n",
       "\n",
       "    .dataframe tbody tr th {\n",
       "        vertical-align: top;\n",
       "    }\n",
       "\n",
       "    .dataframe thead th {\n",
       "        text-align: right;\n",
       "    }\n",
       "</style>\n",
       "<table border=\"1\" class=\"dataframe\">\n",
       "  <thead>\n",
       "    <tr style=\"text-align: right;\">\n",
       "      <th></th>\n",
       "      <th>miasto</th>\n",
       "      <th>wojewodztwo</th>\n",
       "      <th>ilosc</th>\n",
       "    </tr>\n",
       "  </thead>\n",
       "  <tbody>\n",
       "    <tr>\n",
       "      <th>0</th>\n",
       "      <td>KAMIENIEC ZĄBKOWICKI</td>\n",
       "      <td>DOLNOŚLĄSKIE</td>\n",
       "      <td>0</td>\n",
       "    </tr>\n",
       "    <tr>\n",
       "      <th>1</th>\n",
       "      <td>WLEŃ</td>\n",
       "      <td>DOLNOŚLĄSKIE</td>\n",
       "      <td>0</td>\n",
       "    </tr>\n",
       "    <tr>\n",
       "      <th>2</th>\n",
       "      <td>LUBOMIERZ</td>\n",
       "      <td>DOLNOŚLĄSKIE</td>\n",
       "      <td>0</td>\n",
       "    </tr>\n",
       "    <tr>\n",
       "      <th>3</th>\n",
       "      <td>PRUSICE</td>\n",
       "      <td>DOLNOŚLĄSKIE</td>\n",
       "      <td>0</td>\n",
       "    </tr>\n",
       "    <tr>\n",
       "      <th>4</th>\n",
       "      <td>WIĄZÓW</td>\n",
       "      <td>DOLNOŚLĄSKIE</td>\n",
       "      <td>0</td>\n",
       "    </tr>\n",
       "    <tr>\n",
       "      <th>...</th>\n",
       "      <td>...</td>\n",
       "      <td>...</td>\n",
       "      <td>...</td>\n",
       "    </tr>\n",
       "    <tr>\n",
       "      <th>959</th>\n",
       "      <td>ŚWINOUJŚCIE</td>\n",
       "      <td>ZACHODNIOPOMORSKIE</td>\n",
       "      <td>0</td>\n",
       "    </tr>\n",
       "    <tr>\n",
       "      <th>960</th>\n",
       "      <td>KOŁOBRZEG</td>\n",
       "      <td>ZACHODNIOPOMORSKIE</td>\n",
       "      <td>0</td>\n",
       "    </tr>\n",
       "    <tr>\n",
       "      <th>961</th>\n",
       "      <td>STARGARD</td>\n",
       "      <td>ZACHODNIOPOMORSKIE</td>\n",
       "      <td>0</td>\n",
       "    </tr>\n",
       "    <tr>\n",
       "      <th>962</th>\n",
       "      <td>KOSZALIN</td>\n",
       "      <td>ZACHODNIOPOMORSKIE</td>\n",
       "      <td>0</td>\n",
       "    </tr>\n",
       "    <tr>\n",
       "      <th>963</th>\n",
       "      <td>SZCZECIN</td>\n",
       "      <td>ZACHODNIOPOMORSKIE</td>\n",
       "      <td>0</td>\n",
       "    </tr>\n",
       "  </tbody>\n",
       "</table>\n",
       "<p>964 rows × 3 columns</p>\n",
       "</div>"
      ],
      "text/plain": [
       "                   miasto         wojewodztwo  ilosc\n",
       "0    KAMIENIEC ZĄBKOWICKI        DOLNOŚLĄSKIE      0\n",
       "1                    WLEŃ        DOLNOŚLĄSKIE      0\n",
       "2               LUBOMIERZ        DOLNOŚLĄSKIE      0\n",
       "3                 PRUSICE        DOLNOŚLĄSKIE      0\n",
       "4                  WIĄZÓW        DOLNOŚLĄSKIE      0\n",
       "..                    ...                 ...    ...\n",
       "959           ŚWINOUJŚCIE  ZACHODNIOPOMORSKIE      0\n",
       "960             KOŁOBRZEG  ZACHODNIOPOMORSKIE      0\n",
       "961              STARGARD  ZACHODNIOPOMORSKIE      0\n",
       "962              KOSZALIN  ZACHODNIOPOMORSKIE      0\n",
       "963              SZCZECIN  ZACHODNIOPOMORSKIE      0\n",
       "\n",
       "[964 rows x 3 columns]"
      ]
     },
     "execution_count": 13,
     "metadata": {},
     "output_type": "execute_result"
    }
   ],
   "source": [
    "df['ilosc'] = 0\n",
    "df"
   ]
  }
 ],
 "metadata": {
  "interpreter": {
   "hash": "97cc609b13305c559618ec78a438abc56230b9381f827f22d070313b9a1f3777"
  },
  "kernelspec": {
   "display_name": "Python 3.10.4 64-bit",
   "language": "python",
   "name": "python3"
  },
  "language_info": {
   "codemirror_mode": {
    "name": "ipython",
    "version": 3
   },
   "file_extension": ".py",
   "mimetype": "text/x-python",
   "name": "python",
   "nbconvert_exporter": "python",
   "pygments_lexer": "ipython3",
   "version": "3.10.4"
  },
  "orig_nbformat": 4
 },
 "nbformat": 4,
 "nbformat_minor": 2
}
