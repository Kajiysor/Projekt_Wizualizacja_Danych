{
 "cells": [
  {
   "cell_type": "code",
   "execution_count": null,
   "metadata": {},
   "outputs": [],
   "source": [
    "import numpy as np\n",
    "import pandas as pd\n",
    "import matplotlib.pyplot as plt\n",
    "import geopandas\n",
    "import zipfile\n",
    "import os\n",
    "import re\n",
    "from collections import Counter\n",
    "from bs4 import BeautifulSoup"
   ]
  },
  {
   "cell_type": "code",
   "execution_count": null,
   "metadata": {},
   "outputs": [],
   "source": [
    "df = pd.read_csv(\"combined_data.csv\")"
   ]
  },
  {
   "cell_type": "code",
   "execution_count": null,
   "metadata": {},
   "outputs": [],
   "source": [
    "df.drop(columns=[\"zarobki\", \"Unnamed: 0\"])"
   ]
  },
  {
   "cell_type": "code",
   "execution_count": null,
   "metadata": {},
   "outputs": [],
   "source": [
    "df.drop(df[df.zarobki_min == \"Brak danych\"].index, inplace=True)\n",
    "df\n"
   ]
  },
  {
   "cell_type": "code",
   "execution_count": null,
   "metadata": {},
   "outputs": [],
   "source": [
    "df[df[\"nazwa\"].str.contains(\"Python\")]"
   ]
  },
  {
   "cell_type": "code",
   "execution_count": null,
   "metadata": {},
   "outputs": [],
   "source": [
    "df[df.miasto == \"Poznań\"]"
   ]
  },
  {
   "cell_type": "code",
   "execution_count": null,
   "metadata": {},
   "outputs": [],
   "source": [
    "def read_shape_from_zip(zip_filename, entry_name_regex):\n",
    "    z = zipfile.ZipFile(zip_filename, mode=\"r\")\n",
    "    dbf_name = list(filter(\n",
    "        lambda x: re.match(entry_name_regex + r'.*\\.dbf$',\n",
    "                           os.path.basename(x)),\n",
    "        z.namelist()\n",
    "    ))[0]\n",
    "    z.close()\n",
    "    return geopandas.read_file(dbf_name, encoding='utf-8', vfs='zip://'+zip_filename)"
   ]
  },
  {
   "cell_type": "code",
   "execution_count": null,
   "metadata": {},
   "outputs": [],
   "source": [
    "wojewodztwa = read_shape_from_zip(\"Wojewodztwa.zip\", \"Województwa\")"
   ]
  },
  {
   "cell_type": "code",
   "execution_count": null,
   "metadata": {},
   "outputs": [],
   "source": [
    "wojewodztwa.plot()"
   ]
  },
  {
   "cell_type": "code",
   "execution_count": null,
   "metadata": {},
   "outputs": [],
   "source": [
    "lista_miast = []\n",
    "for miasta in df.miasto.to_list():\n",
    "    if (\"+\" in miasta):\n",
    "        lista_miast.append(miasta.split(\"+\")[0].split(\",\")[0].strip().upper())\n",
    "    elif \",\" in miasta:\n",
    "        for miasto in miasta.split(\",\"):\n",
    "            lista_miast.append(miasto.strip().upper())\n",
    "    elif (miasta == \"Nie podano\"):\n",
    "        pass\n",
    "\n",
    "    else:\n",
    "        lista_miast.append(miasta.upper())\n",
    "\n",
    "len(lista_miast)"
   ]
  },
  {
   "cell_type": "code",
   "execution_count": null,
   "metadata": {},
   "outputs": [],
   "source": [
    "for miasto in lista_miast:\n",
    "    if \"SUCHY LAS\" in miasto:\n",
    "        lista_miast.remove(miasto)\n",
    "        lista_miast.append(\"Poznań\".upper())\n",
    "    if \"WARSAW\" in miasto:\n",
    "        lista_miast.remove(miasto)\n",
    "        lista_miast.append(\"WARSZAWA\")"
   ]
  },
  {
   "cell_type": "code",
   "execution_count": null,
   "metadata": {},
   "outputs": [],
   "source": [
    "zbior_miast = set(lista_miast)"
   ]
  },
  {
   "cell_type": "code",
   "execution_count": null,
   "metadata": {},
   "outputs": [],
   "source": [
    "len(zbior_miast)"
   ]
  },
  {
   "cell_type": "code",
   "execution_count": null,
   "metadata": {},
   "outputs": [],
   "source": [
    "zbior_miast"
   ]
  },
  {
   "cell_type": "code",
   "execution_count": null,
   "metadata": {},
   "outputs": [],
   "source": [
    "ilosc_ofert_na_miasto = Counter(lista_miast)"
   ]
  },
  {
   "cell_type": "code",
   "execution_count": null,
   "metadata": {},
   "outputs": [],
   "source": [
    "ilosc_ofert_na_miasto"
   ]
  },
  {
   "cell_type": "code",
   "execution_count": null,
   "metadata": {},
   "outputs": [],
   "source": [
    "with open(\"miasta.html\") as miasta:\n",
    "    soup = BeautifulSoup(miasta, \"html.parser\")\n",
    "\n",
    "role = soup.find_all(\"tr\", {\"role\":\"row\"})\n",
    "\n",
    "lista_miast = []\n",
    "for i in range(1, len(role)):\n",
    "    dict = {\"miasto\" : role[i].find_all(\"a\")[0].text.strip().upper(), \"wojewodztwo\" : role[i].find_all(\"a\")[2].text.strip().upper()}\n",
    "    lista_miast.append(dict)\n",
    "\n",
    "df = pd.DataFrame(lista_miast)\n",
    "df['ilosc'] = 0\n",
    "df"
   ]
  },
  {
   "cell_type": "code",
   "execution_count": null,
   "metadata": {},
   "outputs": [],
   "source": [
    "df.loc[df['miasto'] == 'WARSZAWA', 'ilosc'] = 10"
   ]
  },
  {
   "cell_type": "code",
   "execution_count": null,
   "metadata": {},
   "outputs": [],
   "source": [
    "for miasto in ilosc_ofert_na_miasto.keys():\n",
    "    df.loc[df['miasto'] == miasto, 'ilosc'] = ilosc_ofert_na_miasto.get(miasto)"
   ]
  },
  {
   "cell_type": "code",
   "execution_count": null,
   "metadata": {},
   "outputs": [],
   "source": [
    "df"
   ]
  },
  {
   "cell_type": "code",
   "execution_count": null,
   "metadata": {},
   "outputs": [],
   "source": [
    "df = df.drop(df[df.ilosc == 0].index)"
   ]
  },
  {
   "cell_type": "code",
   "execution_count": null,
   "metadata": {},
   "outputs": [],
   "source": [
    "df"
   ]
  },
  {
   "cell_type": "code",
   "execution_count": null,
   "metadata": {},
   "outputs": [],
   "source": [
    "wojewodztwa['JPT_NAZWA_'] = wojewodztwa['JPT_NAZWA_'].str.upper()\n",
    "wojewodztwa.rename(columns={\"JPT_NAZWA_\" : \"wojewodztwo\"}, inplace=True)\n",
    "wojewodztwa"
   ]
  },
  {
   "cell_type": "code",
   "execution_count": null,
   "metadata": {},
   "outputs": [],
   "source": [
    "wojewodztwa_ilosc = df.drop(columns=\"miasto\")\n",
    "wojewodztwa_ilosc = wojewodztwa_ilosc.groupby('wojewodztwo').sum()\n",
    "wojewodztwa_ilosc\n",
    "\n",
    "df_wojewodztwa_ilosc = pd.merge(wojewodztwa, wojewodztwa_ilosc, left_on='wojewodztwo', right_index=True)\n",
    "df_wojewodztwa_ilosc.sort_values('ilosc',ascending=False)\n",
    "# df_wojewodztwa_ilosc\n",
    "\n",
    "# df_district_qnty = pd.merge(districts, df_district, left_on='nazwa', right_index=True)\n",
    "# df_district_qnty.sort_values('ilosc',ascending=False)"
   ]
  },
  {
   "cell_type": "code",
   "execution_count": null,
   "metadata": {},
   "outputs": [],
   "source": [
    "fig, ax = plt.subplots(figsize=(10, 10))\n",
    "df_wojewodztwa_ilosc.plot(column='ilosc', cmap='spring_r', linewidth=1.5, ax=ax)\n",
    "\n",
    "vmin, vmax = df_wojewodztwa_ilosc['ilosc'].min(), df_wojewodztwa_ilosc['ilosc'].max()\n",
    "sm = plt.cm.ScalarMappable(cmap='spring_r', norm=plt.Normalize(vmin=vmin, vmax=vmax))\n",
    "sm._A = []\n",
    "fig.colorbar(sm, shrink=0.5, ax=ax)\n",
    "\n",
    "ax.grid(True)\n",
    "ax.set_axis_off()\n",
    "ax.set_title(\"Liczba ofert ze względu na województwo\")\n",
    "plt.tight_layout()\n",
    "plt.show()"
   ]
  },
  {
   "cell_type": "code",
   "execution_count": null,
   "metadata": {},
   "outputs": [],
   "source": [
    "df = pd.read_csv(\"combined_data_with_average_salary.csv\")\n",
    "df = df.drop(columns=[\"Unnamed: 0\"])"
   ]
  },
  {
   "cell_type": "code",
   "execution_count": null,
   "metadata": {},
   "outputs": [],
   "source": [
    "df"
   ]
  },
  {
   "cell_type": "code",
   "execution_count": null,
   "metadata": {},
   "outputs": [],
   "source": [
    "lista_miast2 = []\n",
    "\n",
    "for i in range(0, len(df)):\n",
    "    miasta = df.iloc[i].get('miasto')\n",
    "    zarobki_srednie = df.iloc[i].get('zarobki_srednie')\n",
    "\n",
    "    if (\"+\" in miasta):\n",
    "        lista_miast2.append(miasta.split(\"+\")[0].split(\",\")[0].strip().upper())\n",
    "        lista_miast2.append(zarobki_srednie)\n",
    "    elif \",\" in miasta:\n",
    "        for miasto in miasta.split(\",\"):\n",
    "            lista_miast2.append(miasto.strip().upper())\n",
    "            lista_miast2.append(zarobki_srednie)\n",
    "    elif (miasta == \"Nie podano\"):\n",
    "        pass\n",
    "\n",
    "    else:\n",
    "        lista_miast2.append(miasta.upper())\n",
    "        lista_miast2.append(zarobki_srednie)\n",
    "\n",
    "len(lista_miast2)"
   ]
  },
  {
   "cell_type": "code",
   "execution_count": null,
   "metadata": {},
   "outputs": [],
   "source": [
    "lista_miast2"
   ]
  },
  {
   "cell_type": "code",
   "execution_count": null,
   "metadata": {},
   "outputs": [],
   "source": [
    "d = {}\n",
    "\n",
    "for miasto, ilosc in ilosc_ofert_na_miasto.items():\n",
    "    d[miasto] = ilosc\n",
    "\n",
    "import numpy"
   ]
  },
  {
   "cell_type": "code",
   "execution_count": null,
   "metadata": {},
   "outputs": [],
   "source": [
    "d2 = {}\n",
    "\n",
    "for miasto, ilosc in ilosc_ofert_na_miasto.items():\n",
    "    d2[miasto] = 0.0\n",
    "\n",
    "for i in range(0, 14140):\n",
    "    if(i % 2 == 0):\n",
    "        if d.get(lista_miast2[i]) is not None:\n",
    "            if numpy.isnan(lista_miast2[i+1]) == False:\n",
    "                d2[lista_miast2[i]] += lista_miast2[i+1]   \n",
    "\n",
    "print(len(d2))\n",
    "print(d2)"
   ]
  },
  {
   "cell_type": "code",
   "execution_count": 397,
   "metadata": {},
   "outputs": [],
   "source": [
    "d3 = {}\n",
    "import math\n",
    "\n",
    "for miasto, ilosc in ilosc_ofert_na_miasto.items():\n",
    "    d3[miasto] = 0.0\n",
    "\n",
    "for miasto in zbior_miast:\n",
    "    d3[miasto] = math.ceil(d2.get(miasto) / d.get(miasto))"
   ]
  },
  {
   "cell_type": "code",
   "execution_count": 398,
   "metadata": {},
   "outputs": [
    {
     "data": {
      "text/plain": [
       "{'WARSZAWA': 17487,\n",
       " 'GDAŃSK': 16222,\n",
       " 'WROCŁAW': 16787,\n",
       " 'KRAKÓW': 18089,\n",
       " 'KATOWICE': 15205,\n",
       " 'ŁÓDŹ': 15590,\n",
       " 'OPOLE': 9358,\n",
       " 'KIELCE': 20665,\n",
       " 'KRAKOW': 16820,\n",
       " 'RZESZÓW': 14947,\n",
       " 'GDYNIA': 13751,\n",
       " 'BIAŁYSTOK': 18117,\n",
       " 'LUBLIN': 17242,\n",
       " 'SZTOKHOLM': 13500,\n",
       " 'GŻIRA': 18217,\n",
       " 'POZNAŃ': 14987,\n",
       " 'TBILISI': 18217,\n",
       " 'ZIELONA GÓRA': 19980,\n",
       " 'BYDGOSZCZ': 16522,\n",
       " 'CZĘSTOCHOWA': 16019,\n",
       " 'GLIWICE': 15438,\n",
       " 'BERLIN': 26479,\n",
       " 'KEMPTEN (ALLGÄU)': 19100,\n",
       " 'PARYŻ': 19753,\n",
       " 'ULM': 15875,\n",
       " 'SZCZECIN': 15520,\n",
       " 'BIELSKO-BIAŁA': 13723,\n",
       " 'PŁOCK': 15567,\n",
       " 'SOSNOWIEC': 22500,\n",
       " 'PIŁA': 22900,\n",
       " 'OSTRÓW WIELKOPOLSKI': 12567,\n",
       " 'ATENY': 11000,\n",
       " 'LIMASSOL': 14388,\n",
       " 'ANIF': 11000,\n",
       " 'SALZBURG': 11000,\n",
       " 'PABIANICE': 11000,\n",
       " 'PIEŃKÓW': 11000,\n",
       " 'ZABIERZÓW': 13650,\n",
       " 'SZCZAWNO-ZDRÓJ': 11000,\n",
       " 'STAROGARD GDAŃSKI': 11000,\n",
       " 'TORUŃ': 16138,\n",
       " 'JELCZ LASKOWICE': 11000,\n",
       " 'WAŁBRZYCH': 11000,\n",
       " 'STRYKÓW': 11000,\n",
       " 'LONDON': 28949,\n",
       " 'KALISZ': 8250,\n",
       " 'AUSTIN': 32380,\n",
       " 'IXELLES': 24390,\n",
       " 'ESCH-SUR-ALZETTE': 26710,\n",
       " 'MEDIOLAN': 15330,\n",
       " 'СОФИЯ': 24390,\n",
       " 'ŻERNIKI WROCŁAWSKIE': 5500,\n",
       " 'NEW YORK': 36000,\n",
       " 'ZABRZE': 20834,\n",
       " 'SOPOT': 11554,\n",
       " 'PLEWISKA': 19000,\n",
       " 'TAJĘCINA': 7750,\n",
       " 'ZAŚCIANKI': 9475,\n",
       " 'KNURÓW': 8500,\n",
       " 'MÜNCHEN': 18335,\n",
       " 'MARKI': 17500,\n",
       " 'ГДАНЬСК': 15500,\n",
       " 'PARK WEST': 17500,\n",
       " 'KOMORNIKI': 7000,\n",
       " 'ZÜRICH': 39473,\n",
       " 'DĄBROWA GÓRNICZA': 15167,\n",
       " 'SŁUPSK': 11500,\n",
       " 'NICOSIA': 5125,\n",
       " 'WIEN': 22500,\n",
       " 'JASIONKA': 11000,\n",
       " 'WALTHAM': 18225,\n",
       " 'AMSTERDAM': 30325,\n",
       " 'DENVER': 27673,\n",
       " 'KRAKAU': 17500,\n",
       " 'ATLANTA': 43262,\n",
       " 'DUBAJ': 44130,\n",
       " 'LIMERICK': 20320,\n",
       " 'STOCKHOLM': 23225,\n",
       " 'BOCA RATON': 25128,\n",
       " 'POLAND': 22100,\n",
       " 'GENEWA': 21045,\n",
       " 'NASHVILLE': 36600,\n",
       " 'תל אביב-יפו': 10980,\n",
       " 'BRATISLAVA': 23700,\n",
       " 'RYBNIK': 14750,\n",
       " 'LONDYN': 33939,\n",
       " 'MADRID': 23630,\n",
       " 'BARCELONA': 19831,\n",
       " 'SAN FRANCISCO': 41651,\n",
       " 'SIECHNICE': 16000,\n",
       " 'КИЇВ': 19215,\n",
       " 'WEJHEROWO': 11000,\n",
       " 'WILNO': 21694,\n",
       " 'SUNNY ISLES BEACH': 18007,\n",
       " 'LOS ANGELES': 36050,\n",
       " 'SZWAJCARIA': 23225,\n",
       " 'SINGAPORE': 11640,\n",
       " 'DALLAS': 27085,\n",
       " 'GRODZISK MAZOWIECKI': 10000,\n",
       " 'MILAN': 13470,\n",
       " 'WYSOGOTOWO': 9000,\n",
       " 'RZEPLIN': 17167,\n",
       " 'CHORZÓW': 7500,\n",
       " 'MELBOURNE': 35135,\n",
       " 'NIŠ': 14630,\n",
       " 'WIELICZKA': 18030,\n",
       " 'MADRYT': 27084,\n",
       " 'SOUTHAMPTON': 27905,\n",
       " 'BOSTON': 41945,\n",
       " 'FULLY REMOTE': 57645,\n",
       " 'PORTO': 14700,\n",
       " 'ВАРШАВА': 20774,\n",
       " 'BRUKSELA': 36000,\n",
       " 'TRÓJMIASTO': 22500,\n",
       " 'LEIPZIG': 22065,\n",
       " 'LEGNICA': 17500,\n",
       " 'LUMEN': 7000,\n",
       " 'TYCHY': 14500,\n",
       " 'TORONTO': 20567,\n",
       " 'GENT': 23215,\n",
       " 'OTTAWA': 11640,\n",
       " 'DUBLIN': 22150,\n",
       " 'LISBOA': 21528,\n",
       " 'HELSINKI': 24500,\n",
       " 'ŚWIDNICA': 13500,\n",
       " 'OSLO': 25740,\n",
       " 'SEATTLE': 23060,\n",
       " 'TURKU': 35305,\n",
       " 'MILANO': 10455,\n",
       " 'PARIS': 29030,\n",
       " 'NIEMCZ': 14375,\n",
       " 'REDWOOD CITY': 32030,\n",
       " 'BUDAPEST': 20059,\n",
       " 'ZUG': 14250,\n",
       " 'ZIELONA GORA': 15400,\n",
       " 'TALLINN': 8825,\n",
       " 'SAN DIEGO': 33380,\n",
       " 'BATH': 25315,\n",
       " 'CARY': 0,\n",
       " 'MYSŁOWICE': 7500,\n",
       " 'HINXTON': 0,\n",
       " 'TEL AVIV-YAFO': 33100,\n",
       " 'BRNO': 23920,\n",
       " 'SYDNEY': 21525}"
      ]
     },
     "execution_count": 398,
     "metadata": {},
     "output_type": "execute_result"
    }
   ],
   "source": [
    "d3"
   ]
  }
 ],
 "metadata": {
  "interpreter": {
   "hash": "aee8b7b246df8f9039afb4144a1f6fd8d2ca17a180786b69acc140d282b71a49"
  },
  "kernelspec": {
   "display_name": "Python 3.10.4 64-bit",
   "language": "python",
   "name": "python3"
  },
  "language_info": {
   "codemirror_mode": {
    "name": "ipython",
    "version": 3
   },
   "file_extension": ".py",
   "mimetype": "text/x-python",
   "name": "python",
   "nbconvert_exporter": "python",
   "pygments_lexer": "ipython3",
   "version": "3.10.4"
  },
  "orig_nbformat": 4
 },
 "nbformat": 4,
 "nbformat_minor": 2
}
